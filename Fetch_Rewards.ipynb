{
 "cells": [
  {
   "cell_type": "markdown",
   "id": "53ccaa7b",
   "metadata": {},
   "source": [
    "# Fetch Rewards Coding Exercise\n",
    "\n",
    "In the Notebook, I read three different raw data in JSON format, including receipts, Users, and Brands. \n",
    "\n",
    "First, I will do data preprocessing using two different approaches (using the pandas package and \"with open\" to read the dataset). Second, I will capture some data quality issues. Third, I will analyze the data and answer the question - Which brand has the most transactions among users who were created within the past 6 months using MySQL and share it with our business stakeholders? Last, a couple of clarifying questions and insights will be drafted in the email."
   ]
  },
  {
   "cell_type": "code",
   "execution_count": 1,
   "id": "f633638e",
   "metadata": {},
   "outputs": [],
   "source": [
    "# Make sure the package is autoload\n",
    "%load_ext autoreload\n",
    "%autoreload 2"
   ]
  },
  {
   "cell_type": "markdown",
   "id": "84f9d1c3",
   "metadata": {},
   "source": [
    "### Import Library\n",
    "\n",
    "- I create the dqcheck.py, which help the notebook to be easy to read and the dqcheck file can reuse for other analysis. (Feel free to take a look at dqcheck.py)|"
   ]
  },
  {
   "cell_type": "code",
   "execution_count": 2,
   "id": "467021f2",
   "metadata": {},
   "outputs": [],
   "source": [
    "import dqcheck\n",
    "import pandas as pd\n",
    "from datetime import datetime\n",
    "import json"
   ]
  },
  {
   "cell_type": "markdown",
   "id": "3f3de2d1",
   "metadata": {},
   "source": [
    "# 1. Read in data"
   ]
  },
  {
   "cell_type": "markdown",
   "id": "d58bee00",
   "metadata": {},
   "source": [
    "- In this section, I will read three different files. ERD is planned in a different file (pdf). "
   ]
  },
  {
   "cell_type": "markdown",
   "id": "0f1788f7",
   "metadata": {},
   "source": [
    "### Loads Receipts data\n",
    "\n",
    "- I create an additional  Items table to capture the information in the Item list column that each of the receipt numbers contains.\n"
   ]
  },
  {
   "cell_type": "code",
   "execution_count": 3,
   "id": "a664aa3f",
   "metadata": {},
   "outputs": [],
   "source": [
    "fileName = 'receipts.json'"
   ]
  },
  {
   "cell_type": "code",
   "execution_count": 4,
   "id": "724f0e75",
   "metadata": {},
   "outputs": [],
   "source": [
    "# Check the json format to help do data preprocessing / \n",
    "# Create the Receipts, we can also load data using python from scratch, but here we just want to understand the format\n",
    "r = dqcheck.Receipts(fileName)"
   ]
  },
  {
   "cell_type": "code",
   "execution_count": 5,
   "id": "8802f243",
   "metadata": {},
   "outputs": [
    {
     "data": {
      "text/plain": [
       "{'_id': {'$oid': '5ff1e1eb0a720f0523000575'},\n",
       " 'bonusPointsEarned': 500,\n",
       " 'bonusPointsEarnedReason': 'Receipt number 2 completed, bonus point schedule DEFAULT (5cefdcacf3693e0b50e83a36)',\n",
       " 'createDate': {'$date': 1609687531000},\n",
       " 'dateScanned': {'$date': 1609687531000},\n",
       " 'finishedDate': {'$date': 1609687531000},\n",
       " 'modifyDate': {'$date': 1609687536000},\n",
       " 'pointsAwardedDate': {'$date': 1609687531000},\n",
       " 'pointsEarned': '500.0',\n",
       " 'purchaseDate': {'$date': 1609632000000},\n",
       " 'purchasedItemCount': 5,\n",
       " 'rewardsReceiptItemList': [{'barcode': '4011',\n",
       "   'description': 'ITEM NOT FOUND',\n",
       "   'finalPrice': '26.00',\n",
       "   'itemPrice': '26.00',\n",
       "   'needsFetchReview': False,\n",
       "   'partnerItemId': '1',\n",
       "   'preventTargetGapPoints': True,\n",
       "   'quantityPurchased': 5,\n",
       "   'userFlaggedBarcode': '4011',\n",
       "   'userFlaggedNewItem': True,\n",
       "   'userFlaggedPrice': '26.00',\n",
       "   'userFlaggedQuantity': 5}],\n",
       " 'rewardsReceiptStatus': 'FINISHED',\n",
       " 'totalSpent': '26.00',\n",
       " 'userId': '5ff1e1eacfcf6c399c274ae6'}"
      ]
     },
     "execution_count": 5,
     "metadata": {},
     "output_type": "execute_result"
    }
   ],
   "source": [
    "r.data[0]"
   ]
  },
  {
   "cell_type": "code",
   "execution_count": 6,
   "id": "6e332d39",
   "metadata": {},
   "outputs": [
    {
     "data": {
      "text/html": [
       "<div>\n",
       "<style scoped>\n",
       "    .dataframe tbody tr th:only-of-type {\n",
       "        vertical-align: middle;\n",
       "    }\n",
       "\n",
       "    .dataframe tbody tr th {\n",
       "        vertical-align: top;\n",
       "    }\n",
       "\n",
       "    .dataframe thead th {\n",
       "        text-align: right;\n",
       "    }\n",
       "</style>\n",
       "<table border=\"1\" class=\"dataframe\">\n",
       "  <thead>\n",
       "    <tr style=\"text-align: right;\">\n",
       "      <th></th>\n",
       "      <th>_id</th>\n",
       "      <th>bonusPointsEarned</th>\n",
       "      <th>bonusPointsEarnedReason</th>\n",
       "      <th>createDate</th>\n",
       "      <th>dateScanned</th>\n",
       "      <th>finishedDate</th>\n",
       "      <th>modifyDate</th>\n",
       "      <th>pointsAwardedDate</th>\n",
       "      <th>pointsEarned</th>\n",
       "      <th>purchaseDate</th>\n",
       "      <th>purchasedItemCount</th>\n",
       "      <th>rewardsReceiptItemList</th>\n",
       "      <th>rewardsReceiptStatus</th>\n",
       "      <th>totalSpent</th>\n",
       "      <th>userId</th>\n",
       "    </tr>\n",
       "  </thead>\n",
       "  <tbody>\n",
       "    <tr>\n",
       "      <th>0</th>\n",
       "      <td>{'$oid': '5ff1e1eb0a720f0523000575'}</td>\n",
       "      <td>500.0</td>\n",
       "      <td>Receipt number 2 completed, bonus point schedu...</td>\n",
       "      <td>{'$date': 1609687531000}</td>\n",
       "      <td>{'$date': 1609687531000}</td>\n",
       "      <td>{'$date': 1609687531000}</td>\n",
       "      <td>{'$date': 1609687536000}</td>\n",
       "      <td>{'$date': 1609687531000}</td>\n",
       "      <td>500.0</td>\n",
       "      <td>{'$date': 1609632000000}</td>\n",
       "      <td>5.0</td>\n",
       "      <td>[{'barcode': '4011', 'description': 'ITEM NOT ...</td>\n",
       "      <td>FINISHED</td>\n",
       "      <td>26.0</td>\n",
       "      <td>5ff1e1eacfcf6c399c274ae6</td>\n",
       "    </tr>\n",
       "    <tr>\n",
       "      <th>1</th>\n",
       "      <td>{'$oid': '5ff1e1bb0a720f052300056b'}</td>\n",
       "      <td>150.0</td>\n",
       "      <td>Receipt number 5 completed, bonus point schedu...</td>\n",
       "      <td>{'$date': 1609687483000}</td>\n",
       "      <td>{'$date': 1609687483000}</td>\n",
       "      <td>{'$date': 1609687483000}</td>\n",
       "      <td>{'$date': 1609687488000}</td>\n",
       "      <td>{'$date': 1609687483000}</td>\n",
       "      <td>150.0</td>\n",
       "      <td>{'$date': 1609601083000}</td>\n",
       "      <td>2.0</td>\n",
       "      <td>[{'barcode': '4011', 'description': 'ITEM NOT ...</td>\n",
       "      <td>FINISHED</td>\n",
       "      <td>11.0</td>\n",
       "      <td>5ff1e194b6a9d73a3a9f1052</td>\n",
       "    </tr>\n",
       "    <tr>\n",
       "      <th>2</th>\n",
       "      <td>{'$oid': '5ff1e1f10a720f052300057a'}</td>\n",
       "      <td>5.0</td>\n",
       "      <td>All-receipts receipt bonus</td>\n",
       "      <td>{'$date': 1609687537000}</td>\n",
       "      <td>{'$date': 1609687537000}</td>\n",
       "      <td>NaN</td>\n",
       "      <td>{'$date': 1609687542000}</td>\n",
       "      <td>NaN</td>\n",
       "      <td>5.0</td>\n",
       "      <td>{'$date': 1609632000000}</td>\n",
       "      <td>1.0</td>\n",
       "      <td>[{'needsFetchReview': False, 'partnerItemId': ...</td>\n",
       "      <td>REJECTED</td>\n",
       "      <td>10.0</td>\n",
       "      <td>5ff1e1f1cfcf6c399c274b0b</td>\n",
       "    </tr>\n",
       "    <tr>\n",
       "      <th>3</th>\n",
       "      <td>{'$oid': '5ff1e1ee0a7214ada100056f'}</td>\n",
       "      <td>5.0</td>\n",
       "      <td>All-receipts receipt bonus</td>\n",
       "      <td>{'$date': 1609687534000}</td>\n",
       "      <td>{'$date': 1609687534000}</td>\n",
       "      <td>{'$date': 1609687534000}</td>\n",
       "      <td>{'$date': 1609687539000}</td>\n",
       "      <td>{'$date': 1609687534000}</td>\n",
       "      <td>5.0</td>\n",
       "      <td>{'$date': 1609632000000}</td>\n",
       "      <td>4.0</td>\n",
       "      <td>[{'barcode': '4011', 'description': 'ITEM NOT ...</td>\n",
       "      <td>FINISHED</td>\n",
       "      <td>28.0</td>\n",
       "      <td>5ff1e1eacfcf6c399c274ae6</td>\n",
       "    </tr>\n",
       "    <tr>\n",
       "      <th>4</th>\n",
       "      <td>{'$oid': '5ff1e1d20a7214ada1000561'}</td>\n",
       "      <td>5.0</td>\n",
       "      <td>All-receipts receipt bonus</td>\n",
       "      <td>{'$date': 1609687506000}</td>\n",
       "      <td>{'$date': 1609687506000}</td>\n",
       "      <td>{'$date': 1609687511000}</td>\n",
       "      <td>{'$date': 1609687511000}</td>\n",
       "      <td>{'$date': 1609687506000}</td>\n",
       "      <td>5.0</td>\n",
       "      <td>{'$date': 1609601106000}</td>\n",
       "      <td>2.0</td>\n",
       "      <td>[{'barcode': '4011', 'description': 'ITEM NOT ...</td>\n",
       "      <td>FINISHED</td>\n",
       "      <td>1.0</td>\n",
       "      <td>5ff1e194b6a9d73a3a9f1052</td>\n",
       "    </tr>\n",
       "  </tbody>\n",
       "</table>\n",
       "</div>"
      ],
      "text/plain": [
       "                                    _id  bonusPointsEarned  \\\n",
       "0  {'$oid': '5ff1e1eb0a720f0523000575'}              500.0   \n",
       "1  {'$oid': '5ff1e1bb0a720f052300056b'}              150.0   \n",
       "2  {'$oid': '5ff1e1f10a720f052300057a'}                5.0   \n",
       "3  {'$oid': '5ff1e1ee0a7214ada100056f'}                5.0   \n",
       "4  {'$oid': '5ff1e1d20a7214ada1000561'}                5.0   \n",
       "\n",
       "                             bonusPointsEarnedReason  \\\n",
       "0  Receipt number 2 completed, bonus point schedu...   \n",
       "1  Receipt number 5 completed, bonus point schedu...   \n",
       "2                         All-receipts receipt bonus   \n",
       "3                         All-receipts receipt bonus   \n",
       "4                         All-receipts receipt bonus   \n",
       "\n",
       "                 createDate               dateScanned  \\\n",
       "0  {'$date': 1609687531000}  {'$date': 1609687531000}   \n",
       "1  {'$date': 1609687483000}  {'$date': 1609687483000}   \n",
       "2  {'$date': 1609687537000}  {'$date': 1609687537000}   \n",
       "3  {'$date': 1609687534000}  {'$date': 1609687534000}   \n",
       "4  {'$date': 1609687506000}  {'$date': 1609687506000}   \n",
       "\n",
       "               finishedDate                modifyDate  \\\n",
       "0  {'$date': 1609687531000}  {'$date': 1609687536000}   \n",
       "1  {'$date': 1609687483000}  {'$date': 1609687488000}   \n",
       "2                       NaN  {'$date': 1609687542000}   \n",
       "3  {'$date': 1609687534000}  {'$date': 1609687539000}   \n",
       "4  {'$date': 1609687511000}  {'$date': 1609687511000}   \n",
       "\n",
       "          pointsAwardedDate  pointsEarned              purchaseDate  \\\n",
       "0  {'$date': 1609687531000}         500.0  {'$date': 1609632000000}   \n",
       "1  {'$date': 1609687483000}         150.0  {'$date': 1609601083000}   \n",
       "2                       NaN           5.0  {'$date': 1609632000000}   \n",
       "3  {'$date': 1609687534000}           5.0  {'$date': 1609632000000}   \n",
       "4  {'$date': 1609687506000}           5.0  {'$date': 1609601106000}   \n",
       "\n",
       "   purchasedItemCount                             rewardsReceiptItemList  \\\n",
       "0                 5.0  [{'barcode': '4011', 'description': 'ITEM NOT ...   \n",
       "1                 2.0  [{'barcode': '4011', 'description': 'ITEM NOT ...   \n",
       "2                 1.0  [{'needsFetchReview': False, 'partnerItemId': ...   \n",
       "3                 4.0  [{'barcode': '4011', 'description': 'ITEM NOT ...   \n",
       "4                 2.0  [{'barcode': '4011', 'description': 'ITEM NOT ...   \n",
       "\n",
       "  rewardsReceiptStatus  totalSpent                    userId  \n",
       "0             FINISHED        26.0  5ff1e1eacfcf6c399c274ae6  \n",
       "1             FINISHED        11.0  5ff1e194b6a9d73a3a9f1052  \n",
       "2             REJECTED        10.0  5ff1e1f1cfcf6c399c274b0b  \n",
       "3             FINISHED        28.0  5ff1e1eacfcf6c399c274ae6  \n",
       "4             FINISHED         1.0  5ff1e194b6a9d73a3a9f1052  "
      ]
     },
     "execution_count": 6,
     "metadata": {},
     "output_type": "execute_result"
    }
   ],
   "source": [
    "# read in receipts file using pandas package \n",
    "receipts = pd.read_json('receipts.json', lines=True)\n",
    "receipts.head()"
   ]
  },
  {
   "cell_type": "code",
   "execution_count": 7,
   "id": "a8f44d79",
   "metadata": {},
   "outputs": [],
   "source": [
    "# doing data prerpocessing \n",
    "date_columns = ['createDate', 'dateScanned', 'finishedDate', 'modifyDate', 'pointsAwardedDate', 'purchaseDate']\n",
    "receipt_df = dqcheck.preprocess(receipts, dateColumns = date_columns)"
   ]
  },
  {
   "cell_type": "code",
   "execution_count": 8,
   "id": "300b349b",
   "metadata": {},
   "outputs": [
    {
     "data": {
      "text/html": [
       "<div>\n",
       "<style scoped>\n",
       "    .dataframe tbody tr th:only-of-type {\n",
       "        vertical-align: middle;\n",
       "    }\n",
       "\n",
       "    .dataframe tbody tr th {\n",
       "        vertical-align: top;\n",
       "    }\n",
       "\n",
       "    .dataframe thead th {\n",
       "        text-align: right;\n",
       "    }\n",
       "</style>\n",
       "<table border=\"1\" class=\"dataframe\">\n",
       "  <thead>\n",
       "    <tr style=\"text-align: right;\">\n",
       "      <th></th>\n",
       "      <th>_id</th>\n",
       "      <th>bonusPointsEarned</th>\n",
       "      <th>bonusPointsEarnedReason</th>\n",
       "      <th>createDate</th>\n",
       "      <th>dateScanned</th>\n",
       "      <th>finishedDate</th>\n",
       "      <th>modifyDate</th>\n",
       "      <th>pointsAwardedDate</th>\n",
       "      <th>pointsEarned</th>\n",
       "      <th>purchaseDate</th>\n",
       "      <th>purchasedItemCount</th>\n",
       "      <th>rewardsReceiptItemList</th>\n",
       "      <th>rewardsReceiptStatus</th>\n",
       "      <th>totalSpent</th>\n",
       "      <th>userId</th>\n",
       "    </tr>\n",
       "  </thead>\n",
       "  <tbody>\n",
       "    <tr>\n",
       "      <th>0</th>\n",
       "      <td>5ff1e1eb0a720f0523000575</td>\n",
       "      <td>500.0</td>\n",
       "      <td>Receipt number 2 completed, bonus point schedu...</td>\n",
       "      <td>2021-01-03 09:25:31</td>\n",
       "      <td>2021-01-03 09:25:31</td>\n",
       "      <td>2021-01-03 09:25:31</td>\n",
       "      <td>2021-01-03 09:25:36</td>\n",
       "      <td>2021-01-03 09:25:31</td>\n",
       "      <td>500.0</td>\n",
       "      <td>2021-01-02 18:00:00</td>\n",
       "      <td>5.0</td>\n",
       "      <td>[{'barcode': '4011', 'description': 'ITEM NOT ...</td>\n",
       "      <td>FINISHED</td>\n",
       "      <td>26.0</td>\n",
       "      <td>5ff1e1eacfcf6c399c274ae6</td>\n",
       "    </tr>\n",
       "    <tr>\n",
       "      <th>1</th>\n",
       "      <td>5ff1e1bb0a720f052300056b</td>\n",
       "      <td>150.0</td>\n",
       "      <td>Receipt number 5 completed, bonus point schedu...</td>\n",
       "      <td>2021-01-03 09:24:43</td>\n",
       "      <td>2021-01-03 09:24:43</td>\n",
       "      <td>2021-01-03 09:24:43</td>\n",
       "      <td>2021-01-03 09:24:48</td>\n",
       "      <td>2021-01-03 09:24:43</td>\n",
       "      <td>150.0</td>\n",
       "      <td>2021-01-02 09:24:43</td>\n",
       "      <td>2.0</td>\n",
       "      <td>[{'barcode': '4011', 'description': 'ITEM NOT ...</td>\n",
       "      <td>FINISHED</td>\n",
       "      <td>11.0</td>\n",
       "      <td>5ff1e194b6a9d73a3a9f1052</td>\n",
       "    </tr>\n",
       "    <tr>\n",
       "      <th>2</th>\n",
       "      <td>5ff1e1f10a720f052300057a</td>\n",
       "      <td>5.0</td>\n",
       "      <td>All-receipts receipt bonus</td>\n",
       "      <td>2021-01-03 09:25:37</td>\n",
       "      <td>2021-01-03 09:25:37</td>\n",
       "      <td>NaT</td>\n",
       "      <td>2021-01-03 09:25:42</td>\n",
       "      <td>NaT</td>\n",
       "      <td>5.0</td>\n",
       "      <td>2021-01-02 18:00:00</td>\n",
       "      <td>1.0</td>\n",
       "      <td>[{'needsFetchReview': False, 'partnerItemId': ...</td>\n",
       "      <td>REJECTED</td>\n",
       "      <td>10.0</td>\n",
       "      <td>5ff1e1f1cfcf6c399c274b0b</td>\n",
       "    </tr>\n",
       "    <tr>\n",
       "      <th>3</th>\n",
       "      <td>5ff1e1ee0a7214ada100056f</td>\n",
       "      <td>5.0</td>\n",
       "      <td>All-receipts receipt bonus</td>\n",
       "      <td>2021-01-03 09:25:34</td>\n",
       "      <td>2021-01-03 09:25:34</td>\n",
       "      <td>2021-01-03 09:25:34</td>\n",
       "      <td>2021-01-03 09:25:39</td>\n",
       "      <td>2021-01-03 09:25:34</td>\n",
       "      <td>5.0</td>\n",
       "      <td>2021-01-02 18:00:00</td>\n",
       "      <td>4.0</td>\n",
       "      <td>[{'barcode': '4011', 'description': 'ITEM NOT ...</td>\n",
       "      <td>FINISHED</td>\n",
       "      <td>28.0</td>\n",
       "      <td>5ff1e1eacfcf6c399c274ae6</td>\n",
       "    </tr>\n",
       "    <tr>\n",
       "      <th>4</th>\n",
       "      <td>5ff1e1d20a7214ada1000561</td>\n",
       "      <td>5.0</td>\n",
       "      <td>All-receipts receipt bonus</td>\n",
       "      <td>2021-01-03 09:25:06</td>\n",
       "      <td>2021-01-03 09:25:06</td>\n",
       "      <td>2021-01-03 09:25:11</td>\n",
       "      <td>2021-01-03 09:25:11</td>\n",
       "      <td>2021-01-03 09:25:06</td>\n",
       "      <td>5.0</td>\n",
       "      <td>2021-01-02 09:25:06</td>\n",
       "      <td>2.0</td>\n",
       "      <td>[{'barcode': '4011', 'description': 'ITEM NOT ...</td>\n",
       "      <td>FINISHED</td>\n",
       "      <td>1.0</td>\n",
       "      <td>5ff1e194b6a9d73a3a9f1052</td>\n",
       "    </tr>\n",
       "  </tbody>\n",
       "</table>\n",
       "</div>"
      ],
      "text/plain": [
       "                        _id  bonusPointsEarned  \\\n",
       "0  5ff1e1eb0a720f0523000575              500.0   \n",
       "1  5ff1e1bb0a720f052300056b              150.0   \n",
       "2  5ff1e1f10a720f052300057a                5.0   \n",
       "3  5ff1e1ee0a7214ada100056f                5.0   \n",
       "4  5ff1e1d20a7214ada1000561                5.0   \n",
       "\n",
       "                             bonusPointsEarnedReason          createDate  \\\n",
       "0  Receipt number 2 completed, bonus point schedu... 2021-01-03 09:25:31   \n",
       "1  Receipt number 5 completed, bonus point schedu... 2021-01-03 09:24:43   \n",
       "2                         All-receipts receipt bonus 2021-01-03 09:25:37   \n",
       "3                         All-receipts receipt bonus 2021-01-03 09:25:34   \n",
       "4                         All-receipts receipt bonus 2021-01-03 09:25:06   \n",
       "\n",
       "          dateScanned        finishedDate          modifyDate  \\\n",
       "0 2021-01-03 09:25:31 2021-01-03 09:25:31 2021-01-03 09:25:36   \n",
       "1 2021-01-03 09:24:43 2021-01-03 09:24:43 2021-01-03 09:24:48   \n",
       "2 2021-01-03 09:25:37                 NaT 2021-01-03 09:25:42   \n",
       "3 2021-01-03 09:25:34 2021-01-03 09:25:34 2021-01-03 09:25:39   \n",
       "4 2021-01-03 09:25:06 2021-01-03 09:25:11 2021-01-03 09:25:11   \n",
       "\n",
       "    pointsAwardedDate  pointsEarned        purchaseDate  purchasedItemCount  \\\n",
       "0 2021-01-03 09:25:31         500.0 2021-01-02 18:00:00                 5.0   \n",
       "1 2021-01-03 09:24:43         150.0 2021-01-02 09:24:43                 2.0   \n",
       "2                 NaT           5.0 2021-01-02 18:00:00                 1.0   \n",
       "3 2021-01-03 09:25:34           5.0 2021-01-02 18:00:00                 4.0   \n",
       "4 2021-01-03 09:25:06           5.0 2021-01-02 09:25:06                 2.0   \n",
       "\n",
       "                              rewardsReceiptItemList rewardsReceiptStatus  \\\n",
       "0  [{'barcode': '4011', 'description': 'ITEM NOT ...             FINISHED   \n",
       "1  [{'barcode': '4011', 'description': 'ITEM NOT ...             FINISHED   \n",
       "2  [{'needsFetchReview': False, 'partnerItemId': ...             REJECTED   \n",
       "3  [{'barcode': '4011', 'description': 'ITEM NOT ...             FINISHED   \n",
       "4  [{'barcode': '4011', 'description': 'ITEM NOT ...             FINISHED   \n",
       "\n",
       "   totalSpent                    userId  \n",
       "0        26.0  5ff1e1eacfcf6c399c274ae6  \n",
       "1        11.0  5ff1e194b6a9d73a3a9f1052  \n",
       "2        10.0  5ff1e1f1cfcf6c399c274b0b  \n",
       "3        28.0  5ff1e1eacfcf6c399c274ae6  \n",
       "4         1.0  5ff1e194b6a9d73a3a9f1052  "
      ]
     },
     "execution_count": 8,
     "metadata": {},
     "output_type": "execute_result"
    }
   ],
   "source": [
    "receipt_df.head()"
   ]
  },
  {
   "cell_type": "code",
   "execution_count": 9,
   "id": "750e5bda",
   "metadata": {},
   "outputs": [
    {
     "data": {
      "text/html": [
       "<div>\n",
       "<style scoped>\n",
       "    .dataframe tbody tr th:only-of-type {\n",
       "        vertical-align: middle;\n",
       "    }\n",
       "\n",
       "    .dataframe tbody tr th {\n",
       "        vertical-align: top;\n",
       "    }\n",
       "\n",
       "    .dataframe thead th {\n",
       "        text-align: right;\n",
       "    }\n",
       "</style>\n",
       "<table border=\"1\" class=\"dataframe\">\n",
       "  <thead>\n",
       "    <tr style=\"text-align: right;\">\n",
       "      <th></th>\n",
       "      <th>_id</th>\n",
       "      <th>barcode</th>\n",
       "      <th>description</th>\n",
       "      <th>finalPrice</th>\n",
       "      <th>itemPrice</th>\n",
       "      <th>needsFetchReview</th>\n",
       "      <th>partnerItemId</th>\n",
       "      <th>preventTargetGapPoints</th>\n",
       "      <th>quantityPurchased</th>\n",
       "      <th>userFlaggedBarcode</th>\n",
       "      <th>...</th>\n",
       "      <th>itemNumber</th>\n",
       "      <th>originalMetaBriteQuantityPurchased</th>\n",
       "      <th>pointsEarned</th>\n",
       "      <th>targetPrice</th>\n",
       "      <th>competitiveProduct</th>\n",
       "      <th>originalFinalPrice</th>\n",
       "      <th>originalMetaBriteItemPrice</th>\n",
       "      <th>deleted</th>\n",
       "      <th>priceAfterCoupon</th>\n",
       "      <th>metabriteCampaignId</th>\n",
       "    </tr>\n",
       "  </thead>\n",
       "  <tbody>\n",
       "    <tr>\n",
       "      <th>0</th>\n",
       "      <td>5ff1e1eb0a720f0523000575</td>\n",
       "      <td>4011</td>\n",
       "      <td>ITEM NOT FOUND</td>\n",
       "      <td>26.00</td>\n",
       "      <td>26.00</td>\n",
       "      <td>False</td>\n",
       "      <td>1</td>\n",
       "      <td>True</td>\n",
       "      <td>5</td>\n",
       "      <td>4011</td>\n",
       "      <td>...</td>\n",
       "      <td>NaN</td>\n",
       "      <td>NaN</td>\n",
       "      <td>NaN</td>\n",
       "      <td>NaN</td>\n",
       "      <td>NaN</td>\n",
       "      <td>NaN</td>\n",
       "      <td>NaN</td>\n",
       "      <td>NaN</td>\n",
       "      <td>NaN</td>\n",
       "      <td>NaN</td>\n",
       "    </tr>\n",
       "    <tr>\n",
       "      <th>0</th>\n",
       "      <td>5ff1e1bb0a720f052300056b</td>\n",
       "      <td>4011</td>\n",
       "      <td>ITEM NOT FOUND</td>\n",
       "      <td>1</td>\n",
       "      <td>1</td>\n",
       "      <td>NaN</td>\n",
       "      <td>1</td>\n",
       "      <td>NaN</td>\n",
       "      <td>1</td>\n",
       "      <td>NaN</td>\n",
       "      <td>...</td>\n",
       "      <td>NaN</td>\n",
       "      <td>NaN</td>\n",
       "      <td>NaN</td>\n",
       "      <td>NaN</td>\n",
       "      <td>NaN</td>\n",
       "      <td>NaN</td>\n",
       "      <td>NaN</td>\n",
       "      <td>NaN</td>\n",
       "      <td>NaN</td>\n",
       "      <td>NaN</td>\n",
       "    </tr>\n",
       "    <tr>\n",
       "      <th>0</th>\n",
       "      <td>5ff1e1bb0a720f052300056b</td>\n",
       "      <td>028400642255</td>\n",
       "      <td>DORITOS TORTILLA CHIP SPICY SWEET CHILI REDUCE...</td>\n",
       "      <td>10.00</td>\n",
       "      <td>10.00</td>\n",
       "      <td>True</td>\n",
       "      <td>2</td>\n",
       "      <td>True</td>\n",
       "      <td>1</td>\n",
       "      <td>028400642255</td>\n",
       "      <td>...</td>\n",
       "      <td>NaN</td>\n",
       "      <td>NaN</td>\n",
       "      <td>NaN</td>\n",
       "      <td>NaN</td>\n",
       "      <td>NaN</td>\n",
       "      <td>NaN</td>\n",
       "      <td>NaN</td>\n",
       "      <td>NaN</td>\n",
       "      <td>NaN</td>\n",
       "      <td>NaN</td>\n",
       "    </tr>\n",
       "    <tr>\n",
       "      <th>0</th>\n",
       "      <td>5ff1e1f10a720f052300057a</td>\n",
       "      <td>NaN</td>\n",
       "      <td>NaN</td>\n",
       "      <td>NaN</td>\n",
       "      <td>NaN</td>\n",
       "      <td>False</td>\n",
       "      <td>1</td>\n",
       "      <td>True</td>\n",
       "      <td>NaN</td>\n",
       "      <td>4011</td>\n",
       "      <td>...</td>\n",
       "      <td>NaN</td>\n",
       "      <td>NaN</td>\n",
       "      <td>NaN</td>\n",
       "      <td>NaN</td>\n",
       "      <td>NaN</td>\n",
       "      <td>NaN</td>\n",
       "      <td>NaN</td>\n",
       "      <td>NaN</td>\n",
       "      <td>NaN</td>\n",
       "      <td>NaN</td>\n",
       "    </tr>\n",
       "    <tr>\n",
       "      <th>0</th>\n",
       "      <td>5ff1e1ee0a7214ada100056f</td>\n",
       "      <td>4011</td>\n",
       "      <td>ITEM NOT FOUND</td>\n",
       "      <td>28.00</td>\n",
       "      <td>28.00</td>\n",
       "      <td>False</td>\n",
       "      <td>1</td>\n",
       "      <td>True</td>\n",
       "      <td>4</td>\n",
       "      <td>4011</td>\n",
       "      <td>...</td>\n",
       "      <td>NaN</td>\n",
       "      <td>NaN</td>\n",
       "      <td>NaN</td>\n",
       "      <td>NaN</td>\n",
       "      <td>NaN</td>\n",
       "      <td>NaN</td>\n",
       "      <td>NaN</td>\n",
       "      <td>NaN</td>\n",
       "      <td>NaN</td>\n",
       "      <td>NaN</td>\n",
       "    </tr>\n",
       "  </tbody>\n",
       "</table>\n",
       "<p>5 rows × 35 columns</p>\n",
       "</div>"
      ],
      "text/plain": [
       "                        _id       barcode  \\\n",
       "0  5ff1e1eb0a720f0523000575          4011   \n",
       "0  5ff1e1bb0a720f052300056b          4011   \n",
       "0  5ff1e1bb0a720f052300056b  028400642255   \n",
       "0  5ff1e1f10a720f052300057a           NaN   \n",
       "0  5ff1e1ee0a7214ada100056f          4011   \n",
       "\n",
       "                                         description finalPrice itemPrice  \\\n",
       "0                                     ITEM NOT FOUND      26.00     26.00   \n",
       "0                                     ITEM NOT FOUND          1         1   \n",
       "0  DORITOS TORTILLA CHIP SPICY SWEET CHILI REDUCE...      10.00     10.00   \n",
       "0                                                NaN        NaN       NaN   \n",
       "0                                     ITEM NOT FOUND      28.00     28.00   \n",
       "\n",
       "  needsFetchReview partnerItemId preventTargetGapPoints quantityPurchased  \\\n",
       "0            False             1                   True                 5   \n",
       "0              NaN             1                    NaN                 1   \n",
       "0             True             2                   True                 1   \n",
       "0            False             1                   True               NaN   \n",
       "0            False             1                   True                 4   \n",
       "\n",
       "  userFlaggedBarcode  ... itemNumber originalMetaBriteQuantityPurchased  \\\n",
       "0               4011  ...        NaN                                NaN   \n",
       "0                NaN  ...        NaN                                NaN   \n",
       "0       028400642255  ...        NaN                                NaN   \n",
       "0               4011  ...        NaN                                NaN   \n",
       "0               4011  ...        NaN                                NaN   \n",
       "\n",
       "  pointsEarned targetPrice competitiveProduct originalFinalPrice  \\\n",
       "0          NaN         NaN                NaN                NaN   \n",
       "0          NaN         NaN                NaN                NaN   \n",
       "0          NaN         NaN                NaN                NaN   \n",
       "0          NaN         NaN                NaN                NaN   \n",
       "0          NaN         NaN                NaN                NaN   \n",
       "\n",
       "  originalMetaBriteItemPrice deleted priceAfterCoupon metabriteCampaignId  \n",
       "0                        NaN     NaN              NaN                 NaN  \n",
       "0                        NaN     NaN              NaN                 NaN  \n",
       "0                        NaN     NaN              NaN                 NaN  \n",
       "0                        NaN     NaN              NaN                 NaN  \n",
       "0                        NaN     NaN              NaN                 NaN  \n",
       "\n",
       "[5 rows x 35 columns]"
      ]
     },
     "execution_count": 9,
     "metadata": {},
     "output_type": "execute_result"
    }
   ],
   "source": [
    "# get the item dataframe\n",
    "item_df = dqcheck.create_item_df(receipt_df)\n",
    "item_df.head()"
   ]
  },
  {
   "cell_type": "code",
   "execution_count": 10,
   "id": "89da0dd5",
   "metadata": {},
   "outputs": [
    {
     "data": {
      "text/plain": [
       "6941"
      ]
     },
     "execution_count": 10,
     "metadata": {},
     "output_type": "execute_result"
    }
   ],
   "source": [
    "# check the lens of itme list\n",
    "len(item_df)"
   ]
  },
  {
   "cell_type": "markdown",
   "id": "4076d05a",
   "metadata": {},
   "source": [
    "### Load Brands data\n",
    "\n",
    "In this part, we can see inside CPG has a nested dictionary. I consider that there exists another table, hence I decompose the CPG dictionary and add the CPG reference columns."
   ]
  },
  {
   "cell_type": "code",
   "execution_count": 11,
   "id": "24572ccf",
   "metadata": {},
   "outputs": [],
   "source": [
    "# load the brand df\n",
    "# different approach, without using pd.read_json. / read the data using with open .. using python from scratch\n",
    "fileName = 'brands.json'\n",
    "b = dqcheck.Brand(fileName)"
   ]
  },
  {
   "cell_type": "code",
   "execution_count": 12,
   "id": "2783c8a7",
   "metadata": {},
   "outputs": [
    {
     "data": {
      "text/plain": [
       "{'_id': {'$oid': '601ac115be37ce2ead437551'},\n",
       " 'barcode': '511111019862',\n",
       " 'category': 'Baking',\n",
       " 'categoryCode': 'BAKING',\n",
       " 'cpg': {'$id': {'$oid': '601ac114be37ce2ead437550'}, '$ref': 'Cogs'},\n",
       " 'name': 'test brand @1612366101024',\n",
       " 'topBrand': False}"
      ]
     },
     "execution_count": 12,
     "metadata": {},
     "output_type": "execute_result"
    }
   ],
   "source": [
    "# check the data format\n",
    "b.data[0]"
   ]
  },
  {
   "cell_type": "code",
   "execution_count": 13,
   "id": "04d29926",
   "metadata": {},
   "outputs": [
    {
     "data": {
      "text/html": [
       "<div>\n",
       "<style scoped>\n",
       "    .dataframe tbody tr th:only-of-type {\n",
       "        vertical-align: middle;\n",
       "    }\n",
       "\n",
       "    .dataframe tbody tr th {\n",
       "        vertical-align: top;\n",
       "    }\n",
       "\n",
       "    .dataframe thead th {\n",
       "        text-align: right;\n",
       "    }\n",
       "</style>\n",
       "<table border=\"1\" class=\"dataframe\">\n",
       "  <thead>\n",
       "    <tr style=\"text-align: right;\">\n",
       "      <th></th>\n",
       "      <th>_id</th>\n",
       "      <th>barcode</th>\n",
       "      <th>brandCode</th>\n",
       "      <th>category</th>\n",
       "      <th>categoryCode</th>\n",
       "      <th>topBrand</th>\n",
       "      <th>cpg</th>\n",
       "      <th>cpg_ref</th>\n",
       "      <th>name</th>\n",
       "    </tr>\n",
       "  </thead>\n",
       "  <tbody>\n",
       "    <tr>\n",
       "      <th>0</th>\n",
       "      <td>601ac115be37ce2ead437551</td>\n",
       "      <td>511111019862</td>\n",
       "      <td>None</td>\n",
       "      <td>Baking</td>\n",
       "      <td>BAKING</td>\n",
       "      <td>False</td>\n",
       "      <td>601ac114be37ce2ead437550</td>\n",
       "      <td>Cogs</td>\n",
       "      <td>test brand @1612366101024</td>\n",
       "    </tr>\n",
       "    <tr>\n",
       "      <th>1</th>\n",
       "      <td>601c5460be37ce2ead43755f</td>\n",
       "      <td>511111519928</td>\n",
       "      <td>STARBUCKS</td>\n",
       "      <td>Beverages</td>\n",
       "      <td>BEVERAGES</td>\n",
       "      <td>False</td>\n",
       "      <td>5332f5fbe4b03c9a25efd0ba</td>\n",
       "      <td>Cogs</td>\n",
       "      <td>Starbucks</td>\n",
       "    </tr>\n",
       "    <tr>\n",
       "      <th>2</th>\n",
       "      <td>601ac142be37ce2ead43755d</td>\n",
       "      <td>511111819905</td>\n",
       "      <td>TEST BRANDCODE @1612366146176</td>\n",
       "      <td>Baking</td>\n",
       "      <td>BAKING</td>\n",
       "      <td>False</td>\n",
       "      <td>601ac142be37ce2ead437559</td>\n",
       "      <td>Cogs</td>\n",
       "      <td>test brand @1612366146176</td>\n",
       "    </tr>\n",
       "    <tr>\n",
       "      <th>3</th>\n",
       "      <td>601ac142be37ce2ead43755a</td>\n",
       "      <td>511111519874</td>\n",
       "      <td>TEST BRANDCODE @1612366146051</td>\n",
       "      <td>Baking</td>\n",
       "      <td>BAKING</td>\n",
       "      <td>False</td>\n",
       "      <td>601ac142be37ce2ead437559</td>\n",
       "      <td>Cogs</td>\n",
       "      <td>test brand @1612366146051</td>\n",
       "    </tr>\n",
       "    <tr>\n",
       "      <th>4</th>\n",
       "      <td>601ac142be37ce2ead43755e</td>\n",
       "      <td>511111319917</td>\n",
       "      <td>TEST BRANDCODE @1612366146827</td>\n",
       "      <td>Candy &amp; Sweets</td>\n",
       "      <td>CANDY_AND_SWEETS</td>\n",
       "      <td>False</td>\n",
       "      <td>5332fa12e4b03c9a25efd1e7</td>\n",
       "      <td>Cogs</td>\n",
       "      <td>test brand @1612366146827</td>\n",
       "    </tr>\n",
       "  </tbody>\n",
       "</table>\n",
       "</div>"
      ],
      "text/plain": [
       "                        _id       barcode                      brandCode  \\\n",
       "0  601ac115be37ce2ead437551  511111019862                           None   \n",
       "1  601c5460be37ce2ead43755f  511111519928                      STARBUCKS   \n",
       "2  601ac142be37ce2ead43755d  511111819905  TEST BRANDCODE @1612366146176   \n",
       "3  601ac142be37ce2ead43755a  511111519874  TEST BRANDCODE @1612366146051   \n",
       "4  601ac142be37ce2ead43755e  511111319917  TEST BRANDCODE @1612366146827   \n",
       "\n",
       "         category      categoryCode topBrand                       cpg  \\\n",
       "0          Baking            BAKING    False  601ac114be37ce2ead437550   \n",
       "1       Beverages         BEVERAGES    False  5332f5fbe4b03c9a25efd0ba   \n",
       "2          Baking            BAKING    False  601ac142be37ce2ead437559   \n",
       "3          Baking            BAKING    False  601ac142be37ce2ead437559   \n",
       "4  Candy & Sweets  CANDY_AND_SWEETS    False  5332fa12e4b03c9a25efd1e7   \n",
       "\n",
       "  cpg_ref                       name  \n",
       "0    Cogs  test brand @1612366101024  \n",
       "1    Cogs                  Starbucks  \n",
       "2    Cogs  test brand @1612366146176  \n",
       "3    Cogs  test brand @1612366146051  \n",
       "4    Cogs  test brand @1612366146827  "
      ]
     },
     "execution_count": 13,
     "metadata": {},
     "output_type": "execute_result"
    }
   ],
   "source": [
    "brand_df = b.create_df()\n",
    "brand_df.head()"
   ]
  },
  {
   "cell_type": "markdown",
   "id": "165f3924",
   "metadata": {},
   "source": [
    "### Load User Data"
   ]
  },
  {
   "cell_type": "code",
   "execution_count": 14,
   "id": "2b63b555",
   "metadata": {},
   "outputs": [
    {
     "data": {
      "text/html": [
       "<div>\n",
       "<style scoped>\n",
       "    .dataframe tbody tr th:only-of-type {\n",
       "        vertical-align: middle;\n",
       "    }\n",
       "\n",
       "    .dataframe tbody tr th {\n",
       "        vertical-align: top;\n",
       "    }\n",
       "\n",
       "    .dataframe thead th {\n",
       "        text-align: right;\n",
       "    }\n",
       "</style>\n",
       "<table border=\"1\" class=\"dataframe\">\n",
       "  <thead>\n",
       "    <tr style=\"text-align: right;\">\n",
       "      <th></th>\n",
       "      <th>_id</th>\n",
       "      <th>active</th>\n",
       "      <th>createdDate</th>\n",
       "      <th>lastLogin</th>\n",
       "      <th>role</th>\n",
       "      <th>signUpSource</th>\n",
       "      <th>state</th>\n",
       "    </tr>\n",
       "  </thead>\n",
       "  <tbody>\n",
       "    <tr>\n",
       "      <th>0</th>\n",
       "      <td>{'$oid': '5ff1e194b6a9d73a3a9f1052'}</td>\n",
       "      <td>True</td>\n",
       "      <td>{'$date': 1609687444800}</td>\n",
       "      <td>{'$date': 1609687537858}</td>\n",
       "      <td>consumer</td>\n",
       "      <td>Email</td>\n",
       "      <td>WI</td>\n",
       "    </tr>\n",
       "    <tr>\n",
       "      <th>1</th>\n",
       "      <td>{'$oid': '5ff1e194b6a9d73a3a9f1052'}</td>\n",
       "      <td>True</td>\n",
       "      <td>{'$date': 1609687444800}</td>\n",
       "      <td>{'$date': 1609687537858}</td>\n",
       "      <td>consumer</td>\n",
       "      <td>Email</td>\n",
       "      <td>WI</td>\n",
       "    </tr>\n",
       "    <tr>\n",
       "      <th>2</th>\n",
       "      <td>{'$oid': '5ff1e194b6a9d73a3a9f1052'}</td>\n",
       "      <td>True</td>\n",
       "      <td>{'$date': 1609687444800}</td>\n",
       "      <td>{'$date': 1609687537858}</td>\n",
       "      <td>consumer</td>\n",
       "      <td>Email</td>\n",
       "      <td>WI</td>\n",
       "    </tr>\n",
       "    <tr>\n",
       "      <th>3</th>\n",
       "      <td>{'$oid': '5ff1e1eacfcf6c399c274ae6'}</td>\n",
       "      <td>True</td>\n",
       "      <td>{'$date': 1609687530554}</td>\n",
       "      <td>{'$date': 1609687530597}</td>\n",
       "      <td>consumer</td>\n",
       "      <td>Email</td>\n",
       "      <td>WI</td>\n",
       "    </tr>\n",
       "    <tr>\n",
       "      <th>4</th>\n",
       "      <td>{'$oid': '5ff1e194b6a9d73a3a9f1052'}</td>\n",
       "      <td>True</td>\n",
       "      <td>{'$date': 1609687444800}</td>\n",
       "      <td>{'$date': 1609687537858}</td>\n",
       "      <td>consumer</td>\n",
       "      <td>Email</td>\n",
       "      <td>WI</td>\n",
       "    </tr>\n",
       "  </tbody>\n",
       "</table>\n",
       "</div>"
      ],
      "text/plain": [
       "                                    _id  active               createdDate  \\\n",
       "0  {'$oid': '5ff1e194b6a9d73a3a9f1052'}    True  {'$date': 1609687444800}   \n",
       "1  {'$oid': '5ff1e194b6a9d73a3a9f1052'}    True  {'$date': 1609687444800}   \n",
       "2  {'$oid': '5ff1e194b6a9d73a3a9f1052'}    True  {'$date': 1609687444800}   \n",
       "3  {'$oid': '5ff1e1eacfcf6c399c274ae6'}    True  {'$date': 1609687530554}   \n",
       "4  {'$oid': '5ff1e194b6a9d73a3a9f1052'}    True  {'$date': 1609687444800}   \n",
       "\n",
       "                  lastLogin      role signUpSource state  \n",
       "0  {'$date': 1609687537858}  consumer        Email    WI  \n",
       "1  {'$date': 1609687537858}  consumer        Email    WI  \n",
       "2  {'$date': 1609687537858}  consumer        Email    WI  \n",
       "3  {'$date': 1609687530597}  consumer        Email    WI  \n",
       "4  {'$date': 1609687537858}  consumer        Email    WI  "
      ]
     },
     "execution_count": 14,
     "metadata": {},
     "output_type": "execute_result"
    }
   ],
   "source": [
    "users_df = pd.read_json('users.json', lines=True)\n",
    "users_df.head()"
   ]
  },
  {
   "cell_type": "code",
   "execution_count": 15,
   "id": "aaf3e060",
   "metadata": {},
   "outputs": [],
   "source": [
    "date_columns = ['createdDate', 'lastLogin']\n",
    "users_df = dqcheck.preprocess(users_df, dateColumns = date_columns)"
   ]
  },
  {
   "cell_type": "code",
   "execution_count": 16,
   "id": "6af923de",
   "metadata": {},
   "outputs": [
    {
     "data": {
      "text/html": [
       "<div>\n",
       "<style scoped>\n",
       "    .dataframe tbody tr th:only-of-type {\n",
       "        vertical-align: middle;\n",
       "    }\n",
       "\n",
       "    .dataframe tbody tr th {\n",
       "        vertical-align: top;\n",
       "    }\n",
       "\n",
       "    .dataframe thead th {\n",
       "        text-align: right;\n",
       "    }\n",
       "</style>\n",
       "<table border=\"1\" class=\"dataframe\">\n",
       "  <thead>\n",
       "    <tr style=\"text-align: right;\">\n",
       "      <th></th>\n",
       "      <th>_id</th>\n",
       "      <th>active</th>\n",
       "      <th>createdDate</th>\n",
       "      <th>lastLogin</th>\n",
       "      <th>role</th>\n",
       "      <th>signUpSource</th>\n",
       "      <th>state</th>\n",
       "    </tr>\n",
       "  </thead>\n",
       "  <tbody>\n",
       "    <tr>\n",
       "      <th>0</th>\n",
       "      <td>5ff1e194b6a9d73a3a9f1052</td>\n",
       "      <td>True</td>\n",
       "      <td>2021-01-03 09:24:04.800</td>\n",
       "      <td>2021-01-03 09:25:37.858</td>\n",
       "      <td>consumer</td>\n",
       "      <td>Email</td>\n",
       "      <td>WI</td>\n",
       "    </tr>\n",
       "    <tr>\n",
       "      <th>1</th>\n",
       "      <td>5ff1e194b6a9d73a3a9f1052</td>\n",
       "      <td>True</td>\n",
       "      <td>2021-01-03 09:24:04.800</td>\n",
       "      <td>2021-01-03 09:25:37.858</td>\n",
       "      <td>consumer</td>\n",
       "      <td>Email</td>\n",
       "      <td>WI</td>\n",
       "    </tr>\n",
       "    <tr>\n",
       "      <th>2</th>\n",
       "      <td>5ff1e194b6a9d73a3a9f1052</td>\n",
       "      <td>True</td>\n",
       "      <td>2021-01-03 09:24:04.800</td>\n",
       "      <td>2021-01-03 09:25:37.858</td>\n",
       "      <td>consumer</td>\n",
       "      <td>Email</td>\n",
       "      <td>WI</td>\n",
       "    </tr>\n",
       "    <tr>\n",
       "      <th>3</th>\n",
       "      <td>5ff1e1eacfcf6c399c274ae6</td>\n",
       "      <td>True</td>\n",
       "      <td>2021-01-03 09:25:30.554</td>\n",
       "      <td>2021-01-03 09:25:30.597</td>\n",
       "      <td>consumer</td>\n",
       "      <td>Email</td>\n",
       "      <td>WI</td>\n",
       "    </tr>\n",
       "    <tr>\n",
       "      <th>4</th>\n",
       "      <td>5ff1e194b6a9d73a3a9f1052</td>\n",
       "      <td>True</td>\n",
       "      <td>2021-01-03 09:24:04.800</td>\n",
       "      <td>2021-01-03 09:25:37.858</td>\n",
       "      <td>consumer</td>\n",
       "      <td>Email</td>\n",
       "      <td>WI</td>\n",
       "    </tr>\n",
       "  </tbody>\n",
       "</table>\n",
       "</div>"
      ],
      "text/plain": [
       "                        _id  active             createdDate  \\\n",
       "0  5ff1e194b6a9d73a3a9f1052    True 2021-01-03 09:24:04.800   \n",
       "1  5ff1e194b6a9d73a3a9f1052    True 2021-01-03 09:24:04.800   \n",
       "2  5ff1e194b6a9d73a3a9f1052    True 2021-01-03 09:24:04.800   \n",
       "3  5ff1e1eacfcf6c399c274ae6    True 2021-01-03 09:25:30.554   \n",
       "4  5ff1e194b6a9d73a3a9f1052    True 2021-01-03 09:24:04.800   \n",
       "\n",
       "                lastLogin      role signUpSource state  \n",
       "0 2021-01-03 09:25:37.858  consumer        Email    WI  \n",
       "1 2021-01-03 09:25:37.858  consumer        Email    WI  \n",
       "2 2021-01-03 09:25:37.858  consumer        Email    WI  \n",
       "3 2021-01-03 09:25:30.597  consumer        Email    WI  \n",
       "4 2021-01-03 09:25:37.858  consumer        Email    WI  "
      ]
     },
     "execution_count": 16,
     "metadata": {},
     "output_type": "execute_result"
    }
   ],
   "source": [
    "users_df.head()"
   ]
  },
  {
   "cell_type": "markdown",
   "id": "53675b97",
   "metadata": {},
   "source": [
    "#  2. Evaluate Data Quality Issues\n",
    "\n",
    "In this section, I captured the null values, and duplicated values for each of the tables, and check if the DateTime data make sense in the receipts table. I assume that those checks I examined are not guaranteed in the pipeline since it is useless to do the same check and will just waste computation.\n",
    "\n",
    "##### (1) Null Check\n",
    "First, for most of the data frames, the missing value can be an issue. As we can see, in the item table, the percentage of some columns is over 90%, which means some of the column can be useless. We can remove the useless column to reduce the memory storage in our platform. Moreover, if there are too many missing values, we will miss important information when joining the table. For instance, when we try to join item table with brand table on barcode columns, we will miss around 60% of our infomration in the dataset. This will be an issue when I try to answering the question \"Which brand has the most transactions among users who were created within the past 6 months?\".\n",
    "\n",
    "##### (1) Duplicate Check\n",
    "Second, we check the duplicate values for each of the tables. By checking the duplicate value, we can reduce the memory storage, and understand if there is any data ingestion problem. Plus, the duplicate value will have a huge impact on future analysis, such as doing exploratory data analysis and building a machine learning model.More details will be explore in the latter section.\n",
    "\n",
    "##### (1) Datetime Check\n",
    "Third, I examined the DateTime data to check if the data make sense. For instance, the receipt-created date cannot be earlier than the product purchase date. However, this rely on the business domain and it is worth checking with the business stakeholders to make sure the DateTime data make sense."
   ]
  },
  {
   "cell_type": "markdown",
   "id": "de97e6e3",
   "metadata": {},
   "source": [
    "### Checking Missing Value"
   ]
  },
  {
   "cell_type": "code",
   "execution_count": 17,
   "id": "f02f8e88",
   "metadata": {},
   "outputs": [
    {
     "name": "stdout",
     "output_type": "stream",
     "text": [
      "_id                         0.00\n",
      "createDate                  0.00\n",
      "dateScanned                 0.00\n",
      "modifyDate                  0.00\n",
      "rewardsReceiptStatus        0.00\n",
      "userId                      0.00\n",
      "totalSpent                 38.87\n",
      "rewardsReceiptItemList     39.32\n",
      "purchaseDate               40.04\n",
      "purchasedItemCount         43.25\n",
      "pointsEarned               45.58\n",
      "finishedDate               49.24\n",
      "bonusPointsEarned          51.39\n",
      "bonusPointsEarnedReason    51.39\n",
      "pointsAwardedDate          52.01\n",
      "dtype: float64\n",
      "==================================\n"
     ]
    },
    {
     "data": {
      "image/png": "[encoded data removed]",
      "text/plain": [
       "<Figure size 576x432 with 1 Axes>"
      ]
     },
     "metadata": {
      "needs_background": "light"
     },
     "output_type": "display_data"
    },
    {
     "data": {
      "text/plain": [
       "<Figure size 576x432 with 0 Axes>"
      ]
     },
     "metadata": {},
     "output_type": "display_data"
    }
   ],
   "source": [
    "dqcheck.nullCheck(receipt_df, 'Receipt')"
   ]
  },
  {
   "cell_type": "code",
   "execution_count": 18,
   "id": "0912958a",
   "metadata": {},
   "outputs": [
    {
     "name": "stdout",
     "output_type": "stream",
     "text": [
      "_id                                    0.00\n",
      "partnerItemId                          0.00\n",
      "finalPrice                             2.51\n",
      "itemPrice                              2.51\n",
      "quantityPurchased                      2.51\n",
      "description                            5.49\n",
      "discountedItemPrice                   16.89\n",
      "originalReceiptItemText               17.01\n",
      "barcode                               55.48\n",
      "brandCode                             62.54\n",
      "rewardsProductPartnerId               67.31\n",
      "rewardsGroup                          75.06\n",
      "pointsPayerId                         81.75\n",
      "priceAfterCoupon                      86.23\n",
      "pointsEarned                          86.64\n",
      "metabriteCampaignId                   87.57\n",
      "needsFetchReview                      88.29\n",
      "competitiveProduct                    90.71\n",
      "targetPrice                           94.55\n",
      "preventTargetGapPoints                94.84\n",
      "pointsNotAwardedReason                95.10\n",
      "userFlaggedBarcode                    95.14\n",
      "userFlaggedNewItem                    95.35\n",
      "userFlaggedPrice                      95.69\n",
      "userFlaggedQuantity                   95.69\n",
      "competitorRewardsGroup                96.04\n",
      "needsFetchReviewReason                96.84\n",
      "userFlaggedDescription                97.05\n",
      "itemNumber                            97.80\n",
      "originalMetaBriteBarcode              98.98\n",
      "originalMetaBriteQuantityPurchased    99.78\n",
      "originalMetaBriteDescription          99.86\n",
      "originalFinalPrice                    99.87\n",
      "originalMetaBriteItemPrice            99.87\n",
      "deleted                               99.87\n",
      "dtype: float64\n",
      "==================================\n"
     ]
    },
    {
     "data": {
      "image/png": "[encoded data removed]",
      "text/plain": [
       "<Figure size 576x432 with 1 Axes>"
      ]
     },
     "metadata": {
      "needs_background": "light"
     },
     "output_type": "display_data"
    },
    {
     "data": {
      "text/plain": [
       "<Figure size 576x432 with 0 Axes>"
      ]
     },
     "metadata": {},
     "output_type": "display_data"
    }
   ],
   "source": [
    "dqcheck.nullCheck(item_df, 'Item list')"
   ]
  },
  {
   "cell_type": "code",
   "execution_count": 19,
   "id": "225fe5ad",
   "metadata": {},
   "outputs": [
    {
     "name": "stdout",
     "output_type": "stream",
     "text": [
      "_id              0.00\n",
      "barcode          0.00\n",
      "cpg              0.00\n",
      "cpg_ref          0.00\n",
      "name             0.00\n",
      "category        13.28\n",
      "brandCode       20.05\n",
      "topBrand        52.44\n",
      "categoryCode    55.70\n",
      "dtype: float64\n",
      "==================================\n"
     ]
    },
    {
     "data": {
      "image/png": "[encoded data removed]",
      "text/plain": [
       "<Figure size 576x432 with 1 Axes>"
      ]
     },
     "metadata": {
      "needs_background": "light"
     },
     "output_type": "display_data"
    },
    {
     "data": {
      "text/plain": [
       "<Figure size 576x432 with 0 Axes>"
      ]
     },
     "metadata": {},
     "output_type": "display_data"
    }
   ],
   "source": [
    "dqcheck.nullCheck(brand_df, 'Brand')"
   ]
  },
  {
   "cell_type": "code",
   "execution_count": 20,
   "id": "b360245d",
   "metadata": {},
   "outputs": [
    {
     "name": "stdout",
     "output_type": "stream",
     "text": [
      "_id              0.00\n",
      "active           0.00\n",
      "createdDate      0.00\n",
      "role             0.00\n",
      "signUpSource     9.70\n",
      "state           11.31\n",
      "lastLogin       12.53\n",
      "dtype: float64\n",
      "==================================\n"
     ]
    },
    {
     "data": {
      "image/png": "[encoded data removed]",
      "text/plain": [
       "<Figure size 576x432 with 1 Axes>"
      ]
     },
     "metadata": {
      "needs_background": "light"
     },
     "output_type": "display_data"
    },
    {
     "data": {
      "text/plain": [
       "<Figure size 576x432 with 0 Axes>"
      ]
     },
     "metadata": {},
     "output_type": "display_data"
    }
   ],
   "source": [
    "dqcheck.nullCheck(users_df, 'Users')"
   ]
  },
  {
   "cell_type": "markdown",
   "id": "aec0ebef",
   "metadata": {},
   "source": [
    "### Checking Duplicate\n",
    "\n",
    "- Holidays often cause data quality errors because the have more/fewer data than other days. We can view that in the user's data most of the duplicate values happened from Nov to Jan. I assume most of the users will shop in quarter 4 and might scan their receipt in the coming month, for instance, January. Hence, it is important to come out with a solution for duplicate value checks during holidays or any seasonality effect."
   ]
  },
  {
   "cell_type": "code",
   "execution_count": 21,
   "id": "220ead3f",
   "metadata": {},
   "outputs": [],
   "source": [
    "new_receipt_df = receipt_df.drop(columns=['rewardsReceiptItemList'])"
   ]
  },
  {
   "cell_type": "code",
   "execution_count": 22,
   "id": "f7f499fd",
   "metadata": {},
   "outputs": [],
   "source": [
    "merge_receipt_item_df = pd.merge(new_receipt_df, item_df, left_on = '_id', right_on='_id', how='left')"
   ]
  },
  {
   "cell_type": "code",
   "execution_count": 23,
   "id": "7b873808",
   "metadata": {},
   "outputs": [
    {
     "data": {
      "text/plain": [
       "0"
      ]
     },
     "execution_count": 23,
     "metadata": {},
     "output_type": "execute_result"
    }
   ],
   "source": [
    "# check duplicate for receipts\n",
    "merge_receipt_item_df.duplicated().sum()\n",
    "\n",
    "# if exist call the function to drop\n",
    "\n",
    "# length_before = len(receipt_df)\n",
    "# # receipt_df.drop_duplicates(keep=False, inplace=True)\n",
    "# length_after = len(new_receipt_df)\n",
    "\n",
    "# print(\"before: \", length_before, \"\\nafter: \", length_after)"
   ]
  },
  {
   "cell_type": "code",
   "execution_count": 24,
   "id": "688b4c06",
   "metadata": {},
   "outputs": [
    {
     "data": {
      "text/plain": [
       "0"
      ]
     },
     "execution_count": 24,
     "metadata": {},
     "output_type": "execute_result"
    }
   ],
   "source": [
    "# check duplicate for brands\n",
    "dqcheck.duplicateCheck(brand_df)"
   ]
  },
  {
   "cell_type": "code",
   "execution_count": 25,
   "id": "805a3c5d",
   "metadata": {},
   "outputs": [
    {
     "data": {
      "text/plain": [
       "283"
      ]
     },
     "execution_count": 25,
     "metadata": {},
     "output_type": "execute_result"
    }
   ],
   "source": [
    "# check duplicate for users\n",
    "dqcheck.duplicateCheck(users_df)"
   ]
  },
  {
   "cell_type": "code",
   "execution_count": 26,
   "id": "2706e840",
   "metadata": {},
   "outputs": [
    {
     "name": "stderr",
     "output_type": "stream",
     "text": [
      "<ipython-input-26-aabd35eebeb5>:2: SettingWithCopyWarning: \n",
      "A value is trying to be set on a copy of a slice from a DataFrame.\n",
      "Try using .loc[row_indexer,col_indexer] = value instead\n",
      "\n",
      "See the caveats in the documentation: https://pandas.pydata.org/pandas-docs/stable/user_guide/indexing.html#returning-a-view-versus-a-copy\n",
      "  duplicate_df['month'] = pd.to_datetime(duplicate_df['createdDate']).apply(lambda x: x.month)\n"
     ]
    }
   ],
   "source": [
    "duplicate_df = users_df[users_df.duplicated()]\n",
    "duplicate_df['month'] = pd.to_datetime(duplicate_df['createdDate']).apply(lambda x: x.month)"
   ]
  },
  {
   "cell_type": "code",
   "execution_count": 27,
   "id": "cd4f27cf",
   "metadata": {},
   "outputs": [
    {
     "data": {
      "text/plain": [
       "1     185\n",
       "12     45\n",
       "11     20\n",
       "9      17\n",
       "2      16\n",
       "Name: month, dtype: int64"
      ]
     },
     "execution_count": 27,
     "metadata": {},
     "output_type": "execute_result"
    }
   ],
   "source": [
    "duplicate_df['month'].value_counts()"
   ]
  },
  {
   "cell_type": "code",
   "execution_count": 28,
   "id": "6429d65c",
   "metadata": {},
   "outputs": [],
   "source": [
    "# Do the data quality check"
   ]
  },
  {
   "cell_type": "code",
   "execution_count": 29,
   "id": "52bb8a21",
   "metadata": {},
   "outputs": [],
   "source": [
    "# check the percentage of missing value \n",
    "# set up the threshold for each cutoff (80% can be an issue) / understand the schema of rewardsreceiptitemlist\n",
    "\n",
    "df = round(receipt_df.isnull().sum() / len(receipt_df) * 100, 2).sort_values(ascending=True)\n"
   ]
  },
  {
   "cell_type": "markdown",
   "id": "96ef5466",
   "metadata": {},
   "source": [
    "### Checking DateTime\n",
    "\n",
    "purchase date cannot be earlier than any other date but can be on the same day."
   ]
  },
  {
   "cell_type": "code",
   "execution_count": 30,
   "id": "4366a482",
   "metadata": {},
   "outputs": [
    {
     "data": {
      "text/plain": [
       "13"
      ]
     },
     "execution_count": 30,
     "metadata": {},
     "output_type": "execute_result"
    }
   ],
   "source": [
    "# datecheck -  can do a lot ... just show few examples\n",
    "# cannot other date in receipte cannot before purchase date\n",
    "len(receipt_df[receipt_df['purchaseDate'] > receipt_df['createDate']])"
   ]
  },
  {
   "cell_type": "code",
   "execution_count": 31,
   "id": "81869c77",
   "metadata": {},
   "outputs": [
    {
     "data": {
      "text/plain": [
       "13"
      ]
     },
     "execution_count": 31,
     "metadata": {},
     "output_type": "execute_result"
    }
   ],
   "source": [
    "len(receipt_df[receipt_df['purchaseDate'] > receipt_df['dateScanned']])"
   ]
  },
  {
   "cell_type": "code",
   "execution_count": 32,
   "id": "274074e9",
   "metadata": {},
   "outputs": [
    {
     "data": {
      "text/plain": [
       "7"
      ]
     },
     "execution_count": 32,
     "metadata": {},
     "output_type": "execute_result"
    }
   ],
   "source": [
    "len(receipt_df[receipt_df['purchaseDate'] > receipt_df['finishedDate']])"
   ]
  },
  {
   "cell_type": "code",
   "execution_count": 33,
   "id": "9b4e9c9e",
   "metadata": {},
   "outputs": [
    {
     "data": {
      "text/plain": [
       "13"
      ]
     },
     "execution_count": 33,
     "metadata": {},
     "output_type": "execute_result"
    }
   ],
   "source": [
    "len(receipt_df[receipt_df['purchaseDate'] > receipt_df['modifyDate']])"
   ]
  },
  {
   "cell_type": "code",
   "execution_count": 34,
   "id": "c1d50c9b",
   "metadata": {},
   "outputs": [
    {
     "data": {
      "text/plain": [
       "508"
      ]
     },
     "execution_count": 34,
     "metadata": {},
     "output_type": "execute_result"
    }
   ],
   "source": [
    "# you cannot modify before you create receipt\n",
    "len(receipt_df[receipt_df['modifyDate'] > receipt_df['createDate']])"
   ]
  },
  {
   "cell_type": "code",
   "execution_count": null,
   "id": "85f599d2",
   "metadata": {},
   "outputs": [],
   "source": []
  },
  {
   "cell_type": "code",
   "execution_count": 35,
   "id": "04c98c65",
   "metadata": {},
   "outputs": [
    {
     "data": {
      "text/plain": [
       "0"
      ]
     },
     "execution_count": 35,
     "metadata": {},
     "output_type": "execute_result"
    }
   ],
   "source": [
    "# users date frame\n",
    "len(users_df[users_df['createdDate'] > users_df['lastLogin']])"
   ]
  },
  {
   "cell_type": "markdown",
   "id": "2dbb3533",
   "metadata": {},
   "source": [
    "# 3. Answer business stakeholder\n",
    "\n",
    "### Which brand has the most transactions among users who were created within the past 6 months?"
   ]
  },
  {
   "cell_type": "code",
   "execution_count": 36,
   "id": "71cddf1b",
   "metadata": {},
   "outputs": [
    {
     "data": {
      "text/plain": [
       "\"\\n1. get the user within 6 month\\n2. get the brand for each item that was purchase by these user only (join)\\n3. count the number of these items\\n\\n-- get the most recent users\\nWITH user_tb AS (\\nSELECT r.userID, _id\\nFROM Receipts r\\nJOIN Users u\\nON r.userId = u.User_id\\nWHERE DATE_ADD(DATE(u.createdDate), INTERVAL 6 MONHT) >= CURDATE())\\n,\\n-- get the brand for each order(barcode)\\nbrand_tb AS (\\nSELECT _id, i.barcode, b.brandCode\\nFROM items i\\nLEFT JOIN Brands b\\nON i.barcode = b.barcode)\\n,\\n-- join two table filter out the order not purchased by the most recent users\\ntransaction_rnk_tb AS (\\nSELECT brandCode, COUNT(barcode), RANK() OVER(ORDER BY COUNT(barcode) DESC) AS 'rnk'\\nFROM user_tb u\\nJOIN brand_tb b\\nON u._id = b._id\\nGROUP BY brandCode)\\n\\nSELECT brandCode\\nFROM transaction_rnk_tb\\nWHERE rnk = 1\\n\""
      ]
     },
     "execution_count": 36,
     "metadata": {},
     "output_type": "execute_result"
    }
   ],
   "source": [
    "\"\"\"\n",
    "1. get the user within 6 month\n",
    "2. get the brand for each item that was purchase by these user only (join)\n",
    "3. count the number of these items\n",
    "\n",
    "-- get the most recent users\n",
    "WITH user_tb AS (\n",
    "SELECT r.userID, _id\n",
    "FROM Receipts r\n",
    "JOIN Users u\n",
    "ON r.userId = u.User_id\n",
    "WHERE DATE_ADD(DATE(u.createdDate), INTERVAL 6 MONHT) >= CURDATE())\n",
    ",\n",
    "-- get the brand for each order(barcode)\n",
    "brand_tb AS (\n",
    "SELECT _id, i.barcode, b.brandCode\n",
    "FROM items i\n",
    "LEFT JOIN Brands b\n",
    "ON i.barcode = b.barcode)\n",
    ",\n",
    "-- join two table filter out the order not purchased by the most recent users\n",
    "transaction_rnk_tb AS (\n",
    "SELECT brandCode, COUNT(barcode), RANK() OVER(ORDER BY COUNT(barcode) DESC) AS 'rnk'\n",
    "FROM user_tb u\n",
    "JOIN brand_tb b\n",
    "ON u._id = b._id\n",
    "GROUP BY brandCode)\n",
    "\n",
    "SELECT brandCode\n",
    "FROM transaction_rnk_tb\n",
    "WHERE rnk = 1\n",
    "\"\"\""
   ]
  },
  {
   "cell_type": "markdown",
   "id": "0b47d287",
   "metadata": {},
   "source": [
    "# 4. Communicate with Stakeholders\n",
    "\n",
    "Lastly, I will construct an email to the business stakeholders to update my work and share some of my concerns with the data. This section helps us to know if we can communicate with stakeholders that is understandable to a product or business leader who isn’t familiar with my day to day work. "
   ]
  },
  {
   "cell_type": "markdown",
   "id": "0dbb648b",
   "metadata": {},
   "source": [
    "Hi Teams,\n",
    "\n",
    "This is Calvin. I've been working on the rewards data, including receipts, users, and brands, that I was given a few days ago. I would like to update my progress and few questions would like to clarify.\n",
    "\n",
    "#### Request for more Data (Perfomance issue)\n",
    "1. Is there a list of attributes for item-specific information, such as description, item price, final price, etc). We can potentially speed up the data collection time if we have a chance to access this list.\n",
    "\n",
    "#### Data Quality Issue\n",
    "\n",
    "1. **Missing value:** Most of the key attributes in the item-specific dataset are missing. I would like to understand the root cause of this, which can come up the solution of those missing value. Second, over half of the items do not have a barcode. This can lead to problems when creating the relationship between tables and further impact the data analysis. \n",
    "\n",
    "2. **DateTime date:** Related to the DateTime data. Is it possible to have a receipt created date before the customer purchase the item? Do we have the order of dates which should happen first? I assume that the customer purchase date should not happen before any other action date(created, scanned, modified) in the receipts table. However, there are a few data points that do not match my assumption.\n",
    "\n",
    "3. **Duplicate value:** In the user table, I capture a few duplicate values. I am wondering if the duplicate value of the user will impact the overall business model or it has own purpose. For instance, the app might double its points, the user might consider as a fraudster, or data ingestion issues. Moreover, It is important to come out with a solution when doing quality checks during holidays since most of the duplicate values happened in Q4. We could see who is on call during the holidays.\n",
    "\n",
    "#### Improve Perfomance\n",
    "\n",
    "1. Could I know if this data warehouse meets the business requirements, goals, and expectations? If yes, in the future, we can design the fact table and dimension tables to speed up the performance since our table is not super wide. Plus, this design can benefit business users from the simplicity and data is easy to understand and navigate. Also, we can see that we have many textual descriptions of the data. Hence, it can be a good experiment to test it out.\n",
    "2. If we want to have a better performance, we can apply a multicolumn indexes to decrease the query time and have a faster data retrieval time. But, I would like to know the business question we would need to forecast in the future and try to improve the filter performance. I assume that we will play with the User, brand, and DateTime data more since it is important to understand the relationship between the brands and the users, since we can partner with the right business partners and earn commissions from them.\n",
    "\n",
    "Let me know what your thoughs are. I'd be happy to schedule a meeting to clarify these questions if you think it would help. Looking forward to hearing from you.\n",
    "\n",
    "Thanks,\n",
    "Calvin"
   ]
  },
  {
   "cell_type": "code",
   "execution_count": null,
   "id": "88b8a396",
   "metadata": {},
   "outputs": [],
   "source": []
  }
 ],
 "metadata": {
  "kernelspec": {
   "display_name": "Python 3",
   "language": "python",
   "name": "python3"
  },
  "language_info": {
   "codemirror_mode": {
    "name": "ipython",
    "version": 3
   },
   "file_extension": ".py",
   "mimetype": "text/x-python",
   "name": "python",
   "nbconvert_exporter": "python",
   "pygments_lexer": "ipython3",
   "version": "3.8.8"
  }
 },
 "nbformat": 4,
 "nbformat_minor": 5
}
